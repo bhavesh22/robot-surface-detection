{
 "cells": [
  {
   "cell_type": "code",
   "execution_count": 1,
   "metadata": {
    "_cell_guid": "b1076dfc-b9ad-4769-8c92-a6c4dae69d19",
    "_uuid": "8f2839f25d086af736a60e9eeb907d3b93b6e0e5"
   },
   "outputs": [],
   "source": [
    "# This Python 3 environment comes with many helpful analytics libraries installed\n",
    "# It is defined by the kaggle/python docker image: https://github.com/kaggle/docker-python\n",
    "import os\n",
    "import time\n",
    "import numpy as np\n",
    "import pandas as pd\n",
    "import matplotlib.pyplot as plt\n",
    "from sklearn.preprocessing import LabelEncoder\n",
    "from sklearn.ensemble import RandomForestClassifier\n",
    "from sklearn.utils import shuffle\n",
    "from sklearn.model_selection import KFold, StratifiedKFold"
   ]
  },
  {
   "cell_type": "code",
   "execution_count": 2,
   "metadata": {
    "_cell_guid": "79c7e3d0-c299-4dcb-8224-4455121ee9b0",
    "_uuid": "d629ff2d2480ee46fbb7e2d37f6b5fab8052498a"
   },
   "outputs": [],
   "source": [
    "tr = pd.read_csv('../input/X_train.csv')\n",
    "te = pd.read_csv('../input/X_test.csv')\n",
    "target = pd.read_csv('../input/y_train.csv')\n",
    "ss = pd.read_csv('../input/sample_submission.csv')"
   ]
  },
  {
   "cell_type": "code",
   "execution_count": 3,
   "metadata": {},
   "outputs": [],
   "source": [
    "# target.groupby(['surface','group_id'])['series_id'].apply(list)\n",
    "# target[target['surface']=='concrete'].groupby(['surface','group_id'])['series_id'].size()\n",
    "# groups_excluding = [5,50,63]"
   ]
  },
  {
   "cell_type": "code",
   "execution_count": 4,
   "metadata": {},
   "outputs": [],
   "source": [
    "unique_surface = target[\"surface\"].unique()\n"
   ]
  },
  {
   "cell_type": "code",
   "execution_count": 5,
   "metadata": {
    "_kg_hide-output": true
   },
   "outputs": [
    {
     "name": "stdout",
     "output_type": "stream",
     "text": [
      "fine_concrete\n",
      "concrete\n",
      "soft_tiles\n",
      "tiled\n",
      "soft_pvc\n",
      "hard_tiles_large_space\n",
      "wood\n"
     ]
    }
   ],
   "source": [
    "cross_validation_mapping = {}\n",
    "for surface in unique_surface:\n",
    "    if surface in[\"a\",\"hard_tiles\",\"carpet\"]:\n",
    "        continue\n",
    "    size_array = target[target['surface']==surface].groupby(['surface','group_id'])['series_id'].size()\n",
    "    groups_excluding = size_array[size_array<20].reset_index()['group_id']\n",
    "    group_list = target[target['surface']==surface]['group_id'].unique()\n",
    "    l3 = [x for x in group_list if x not in groups_excluding]\n",
    "    folds = KFold(n_splits=5, shuffle=True, random_state=59)\n",
    "    score = []\n",
    "    for times, (trn_idx, val_idx) in enumerate(folds.split(l3,l3)):\n",
    "        if surface not in cross_validation_mapping :\n",
    "            print(surface)\n",
    "            cross_validation_mapping[surface] = {}\n",
    "            cross_validation_mapping[surface][\"train\"] = []\n",
    "            cross_validation_mapping[surface][\"cross_validation\"] = []\n",
    "        temp_2 = np.array(l3)[trn_idx]\n",
    "        temp_2 = np.append(temp_2, groups_excluding)\n",
    "        cross_validation_mapping[surface][\"train\"].append(temp_2)\n",
    "#         cross_validation_mapping[surface][\"train\"].append(np.array(l3)[trn_idx])\n",
    "#         cross_validation_mapping[surface][\"train\"].append(np.array(groups_excluding))\n",
    "        cross_validation_mapping[surface][\"cross_validation\"].append(np.array(l3)[val_idx])"
   ]
  },
  {
   "cell_type": "code",
   "execution_count": 6,
   "metadata": {},
   "outputs": [],
   "source": []
  },
  {
   "cell_type": "code",
   "execution_count": 6,
   "metadata": {},
   "outputs": [
    {
     "data": {
      "text/plain": [
       "array([ 0,  2,  3,  4,  5,  6,  8,  9, 10])"
      ]
     },
     "execution_count": 6,
     "metadata": {},
     "output_type": "execute_result"
    }
   ],
   "source": [
    "trn_idx"
   ]
  },
  {
   "cell_type": "code",
   "execution_count": 7,
   "metadata": {},
   "outputs": [
    {
     "data": {
      "text/plain": [
       "0     2\n",
       "1    24\n",
       "2    67\n",
       "Name: group_id, dtype: int64"
      ]
     },
     "execution_count": 7,
     "metadata": {},
     "output_type": "execute_result"
    }
   ],
   "source": [
    "groups_excluding"
   ]
  },
  {
   "cell_type": "code",
   "execution_count": 8,
   "metadata": {},
   "outputs": [],
   "source": [
    "carpet = {}\n",
    "carpet[\"train\"] = []\n",
    "carpet[\"test\"] = []\n",
    "group_list = target[target['surface']==\"carpet\"]['group_id'].unique()\n",
    "group_list\n",
    "folds = KFold(n_splits=4, shuffle=True, random_state=59)\n",
    "score = []\n",
    "for times, (trn_idx, val_idx) in enumerate(folds.split(group_list,group_list)):\n",
    "    carpet[\"train\"].append(np.array(group_list)[trn_idx])\n",
    "    carpet[\"test\"].append(np.array(group_list)[val_idx])\n",
    "carpet_extra_train = np.array([25,52,60])\n",
    "carpet_extra_test = np.array([7])\n",
    "carpet[\"train\"].append(carpet_extra_train)\n",
    "carpet[\"test\"].append(carpet_extra_test)\n",
    "cross_validation_mapping[\"carpet\"] = {}\n",
    "cross_validation_mapping[\"carpet\"][\"train\"] = carpet[\"train\"]\n",
    "cross_validation_mapping[\"carpet\"][\"cross_validation\"] = carpet[\"test\"]"
   ]
  },
  {
   "cell_type": "code",
   "execution_count": 9,
   "metadata": {},
   "outputs": [],
   "source": [
    "hard_tile_series_id = target[target[\"group_id\"]==27]['series_id']\n",
    "folds = KFold(n_splits=5, shuffle=True, random_state=59)\n",
    "score = []\n",
    "hard_tiles_mappings = {}\n",
    "hard_tiles_mappings[\"train\"] = []\n",
    "hard_tiles_mappings[\"cross_validation\"] = []\n",
    "for times, (trn_idx, val_idx) in enumerate(folds.split(hard_tile_series_id,hard_tile_series_id)):\n",
    "    hard_tiles_mappings[\"train\"].append(np.array(hard_tile_series_id)[trn_idx])\n",
    "    hard_tiles_mappings[\"cross_validation\"].append(np.array(hard_tile_series_id)[val_idx])"
   ]
  },
  {
   "cell_type": "code",
   "execution_count": 10,
   "metadata": {},
   "outputs": [],
   "source": [
    "train_labels = target['surface']"
   ]
  },
  {
   "cell_type": "code",
   "execution_count": 11,
   "metadata": {},
   "outputs": [],
   "source": [
    "def quaternion_to_euler(x, y, z, w):\n",
    "    import math\n",
    "    t0 = +2.0 * (w * x + y * z)\n",
    "    t1 = +1.0 - 2.0 * (x * x + y * y)\n",
    "    X = math.atan2(t0, t1)\n",
    "\n",
    "    t2 = +2.0 * (w * y - z * x)\n",
    "    t2 = +1.0 if t2 > +1.0 else t2\n",
    "    t2 = -1.0 if t2 < -1.0 else t2\n",
    "    Y = math.asin(t2)\n",
    "\n",
    "    t3 = +2.0 * (w * z + x * y)\n",
    "    t4 = +1.0 - 2.0 * (y * y + z * z)\n",
    "    Z = math.atan2(t3, t4)\n",
    "\n",
    "    return X, Y, Z\n",
    "\n",
    "def fe(actual):\n",
    "    new = pd.DataFrame()\n",
    "    actual['total_angular_velocity'] = (actual['angular_velocity_X'] ** 2 + actual['angular_velocity_Y'] ** 2 + actual['angular_velocity_Z'] ** 2) ** 0.5\n",
    "    actual['total_linear_acceleration'] = (actual['linear_acceleration_X'] ** 2 + actual['linear_acceleration_Y'] ** 2 + actual['linear_acceleration_Z'] ** 2) ** 0.5\n",
    "    \n",
    "    actual['acc_vs_vel'] = actual['total_linear_acceleration'] / actual['total_angular_velocity']\n",
    "    \n",
    "    x, y, z, w = actual['orientation_X'].tolist(), actual['orientation_Y'].tolist(), actual['orientation_Z'].tolist(), actual['orientation_W'].tolist()\n",
    "    nx, ny, nz = [], [], []\n",
    "    for i in range(len(x)):\n",
    "        xx, yy, zz = quaternion_to_euler(x[i], y[i], z[i], w[i])\n",
    "        nx.append(xx)\n",
    "        ny.append(yy)\n",
    "        nz.append(zz)\n",
    "    \n",
    "    actual['euler_x'] = nx\n",
    "    actual['euler_y'] = ny\n",
    "    actual['euler_z'] = nz\n",
    "    \n",
    "    actual['total_angle'] = (actual['euler_x'] ** 2 + actual['euler_y'] ** 2 + actual['euler_z'] ** 2) ** 0.5\n",
    "    actual['angle_vs_acc'] = actual['total_angle'] / actual['total_linear_acceleration']\n",
    "    actual['angle_vs_vel'] = actual['total_angle'] / actual['total_angular_velocity']\n",
    "    \n",
    "    def f1(x):\n",
    "        return np.mean(np.diff(np.abs(np.diff(x))))\n",
    "    \n",
    "    def f2(x):\n",
    "        return np.mean(np.abs(np.diff(x)))\n",
    "    \n",
    "    for col in actual.columns:\n",
    "        if col in ['row_id', 'series_id', 'measurement_number']:\n",
    "            continue\n",
    "        new[col + '_mean'] = actual.groupby(['series_id'])[col].mean()\n",
    "        new[col + '_min'] = actual.groupby(['series_id'])[col].min()\n",
    "        new[col + '_max'] = actual.groupby(['series_id'])[col].max()\n",
    "        new[col + '_std'] = actual.groupby(['series_id'])[col].std()\n",
    "        new[col + '_max_to_min'] = new[col + '_max'] / new[col + '_min']\n",
    "        \n",
    "        # Change. 1st order.\n",
    "        new[col + '_mean_abs_change'] = actual.groupby('series_id')[col].apply(f2)\n",
    "        \n",
    "        # Change of Change. 2nd order.\n",
    "        new[col + '_mean_change_of_abs_change'] = actual.groupby('series_id')[col].apply(f1)\n",
    "        \n",
    "        new[col + '_abs_max'] = actual.groupby('series_id')[col].apply(lambda x: np.max(np.abs(x)))\n",
    "        new[col + '_abs_min'] = actual.groupby('series_id')[col].apply(lambda x: np.min(np.abs(x)))\n",
    "\n",
    "    return new"
   ]
  },
  {
   "cell_type": "code",
   "execution_count": 12,
   "metadata": {},
   "outputs": [],
   "source": [
    "tr = fe(tr)\n",
    "te = fe(te)"
   ]
  },
  {
   "cell_type": "code",
   "execution_count": 13,
   "metadata": {},
   "outputs": [],
   "source": [
    "tr.fillna(0, inplace = True)\n",
    "te.fillna(0, inplace = True)\n",
    "tr.replace(-np.inf, 0, inplace = True)\n",
    "tr.replace(np.inf, 0, inplace = True)\n",
    "te.replace(-np.inf, 0, inplace = True)\n",
    "te.replace(np.inf, 0, inplace = True)"
   ]
  },
  {
   "cell_type": "code",
   "execution_count": 14,
   "metadata": {},
   "outputs": [],
   "source": [
    "from IPython.display import HTML\n",
    "import base64\n",
    "def create_download_link(df, title = \"Download \", filename = \"data.csv\"):  \n",
    "    title = title + filename\n",
    "    csv = df.to_csv(index=False)\n",
    "    b64 = base64.b64encode(csv.encode())\n",
    "    payload = b64.decode()\n",
    "    html = '<a download=\"{filename}\" href=\"data:text/csv;base64,{payload}\" target=\"_blank\">{title}</a>'\n",
    "    html = html.format(payload=payload,title=title,filename=filename)\n",
    "    return HTML(html)"
   ]
  },
  {
   "cell_type": "code",
   "execution_count": 15,
   "metadata": {},
   "outputs": [],
   "source": [
    "train_labels= target['surface']\n",
    "train_concat = pd.concat([tr,target],axis=1)"
   ]
  },
  {
   "cell_type": "code",
   "execution_count": 16,
   "metadata": {},
   "outputs": [],
   "source": [
    "from sklearn.ensemble import RandomForestClassifier\n",
    "from sklearn.utils import shuffle\n"
   ]
  },
  {
   "cell_type": "code",
   "execution_count": 17,
   "metadata": {},
   "outputs": [],
   "source": [
    "from sklearn.preprocessing import LabelEncoder\n",
    "\n",
    "le = LabelEncoder()\n",
    "train_concat[\"surface\"] = le.fit_transform(target[\"surface\"])\n"
   ]
  },
  {
   "cell_type": "code",
   "execution_count": 18,
   "metadata": {},
   "outputs": [],
   "source": [
    "import itertools    \n"
   ]
  },
  {
   "cell_type": "code",
   "execution_count": 19,
   "metadata": {},
   "outputs": [
    {
     "data": {
      "text/plain": [
       "4"
      ]
     },
     "execution_count": 19,
     "metadata": {},
     "output_type": "execute_result"
    }
   ],
   "source": [
    "hard_tiles_mappings[\"train\"]\n",
    "len(hard_tiles_mappings[\"cross_validation\"][1])"
   ]
  },
  {
   "cell_type": "code",
   "execution_count": 20,
   "metadata": {},
   "outputs": [
    {
     "name": "stdout",
     "output_type": "stream",
     "text": [
      "0\n",
      "(2874, 171)\n",
      "(906, 171)\n",
      "75.43307086614173\n",
      "1\n",
      "(2947, 171)\n",
      "(815, 171)\n",
      "77.3490813648294\n",
      "2\n",
      "(3046, 171)\n",
      "(724, 171)\n",
      "79.94750656167979\n",
      "3\n",
      "(2972, 171)\n",
      "(787, 171)\n",
      "78.00524934383202\n",
      "4\n",
      "(3204, 171)\n",
      "(559, 171)\n",
      "84.09448818897638\n"
     ]
    }
   ],
   "source": [
    "i =0\n",
    "scores = []\n",
    "confusion_matrix_data = {}\n",
    "confusion_matrix_data[\"predictions\"] = []\n",
    "confusion_matrix_data[\"actual\"]= []\n",
    "while i<5:\n",
    "    print(i)\n",
    "    tr_features = pd.DataFrame()\n",
    "    tr_label = pd.Series()\n",
    "    cv_features = pd.DataFrame()\n",
    "    cv_label = pd.Series()\n",
    "    for surface in unique_surface:\n",
    "        if (surface != \"hard_tiles\"):\n",
    "            temp = train_concat[train_concat[\"group_id\"].isin(cross_validation_mapping[surface][\"train\"][i])]\n",
    "        else :\n",
    "            temp = (train_concat.iloc[hard_tiles_mappings[\"train\"][i]])\n",
    "        \n",
    "        temp_label = temp[\"surface\"]\n",
    "        temp_feature = temp.drop(columns=['group_id','surface','series_id'])\n",
    "        tr_features = tr_features.append(temp_feature)\n",
    "        tr_label = tr_label.append(temp_label)\n",
    "        \n",
    "        if (surface != \"hard_tiles\"):\n",
    "            temp = train_concat[train_concat[\"group_id\"].isin(cross_validation_mapping[surface][\"cross_validation\"][i])]\n",
    "        else:    \n",
    "            temp = (train_concat.iloc[hard_tiles_mappings[\"cross_validation\"][i]])\n",
    "        temp_label = temp[\"surface\"]\n",
    "        temp_feature = temp.drop(columns=['group_id','surface','series_id'])\n",
    "        cv_features = cv_features.append(temp_feature)\n",
    "        cv_label = cv_label.append(temp_label)\n",
    "    random_forest = RandomForestClassifier(n_estimators = 50, random_state = 50)\n",
    "    print(tr_features.shape)\n",
    "    print(cv_features.shape)\n",
    "    print(tr_features.shape[0]*100/train_concat.shape[0])\n",
    "    shuffle_train = tr_features.copy()\n",
    "    shuffle_train[\"surface\"] = tr_label\n",
    "    shuffle_train =  shuffle(shuffle_train)\n",
    "    tr_features_2 = shuffle_train.drop(columns=['surface'])\n",
    "    tr_label_2 = shuffle_train[\"surface\"]\n",
    "    random_forest.fit(tr_features_2, tr_label_2)\n",
    "    \n",
    "    shuffle_cv = cv_features.copy()\n",
    "    shuffle_cv[\"surface\"] = cv_label\n",
    "    shuffle_cv =  shuffle(shuffle_cv)\n",
    "    cv_features_2 = shuffle_cv.drop(columns=['surface'])\n",
    "    cv_label_2 = shuffle_cv[\"surface\"]\n",
    "    score = random_forest.score(cv_features_2, cv_label_2)\n",
    "    confusion_matrix_data[\"predictions\"].append(random_forest.predict(cv_features_2))\n",
    "    confusion_matrix_data[\"actual\"].append(cv_label_2)\n",
    "    scores.append(score)\n",
    "    i += 1\n"
   ]
  },
  {
   "cell_type": "code",
   "execution_count": 21,
   "metadata": {},
   "outputs": [],
   "source": [
    "from sklearn.metrics import confusion_matrix"
   ]
  },
  {
   "cell_type": "code",
   "execution_count": 22,
   "metadata": {},
   "outputs": [
    {
     "data": {
      "text/plain": [
       "array([[  1,   0,   0,   0,   4,   0,   0,   0,   5],\n",
       "       [ 14, 130,   5,   0,   8,   6,  13,   7,  52],\n",
       "       [ 10,   0,   7,   0,   3,   0,   4,   4,   1],\n",
       "       [  0,   0,   0,   2,   0,   0,   1,   0,   0],\n",
       "       [ 10,   3,   3,   0,  46,   0,   0,   3,   0],\n",
       "       [ 26,   3,   1,   0,   2, 117,  39,   4,  29],\n",
       "       [  1,   2,   5,   0,   0,   4,  51,   0,   1],\n",
       "       [  5,   6,   0,   0,   0,   0,   1,  56,   5],\n",
       "       [  4,   0,  39,   3,   8,   8,   5,  36, 103]])"
      ]
     },
     "execution_count": 22,
     "metadata": {},
     "output_type": "execute_result"
    }
   ],
   "source": [
    "confusion_matrix(confusion_matrix_data[\"predictions\"][0], confusion_matrix_data[\"actual\"][0])"
   ]
  },
  {
   "cell_type": "code",
   "execution_count": 23,
   "metadata": {},
   "outputs": [],
   "source": [
    "def plot_confusion_matrix(truth, pred, classes, normalize=False, title=''):\n",
    "    cm = confusion_matrix(truth, pred)\n",
    "    if normalize:\n",
    "        cm = cm.astype('float') / cm.sum(axis=1)[:, np.newaxis]\n",
    "    \n",
    "    plt.figure(figsize=(10, 10))\n",
    "    plt.imshow(cm, interpolation='nearest', cmap=plt.cm.Blues)\n",
    "    plt.title('Confusion matrix', size=15)\n",
    "    plt.colorbar(fraction=0.046, pad=0.04)\n",
    "    tick_marks = np.arange(len(classes))\n",
    "    plt.xticks(tick_marks, classes, rotation=45)\n",
    "    plt.yticks(tick_marks, classes)\n",
    "\n",
    "    fmt = '.2f' if normalize else 'd'\n",
    "    thresh = cm.max() / 2.\n",
    "    for i, j in itertools.product(range(cm.shape[0]), range(cm.shape[1])):\n",
    "        plt.text(j, i, format(cm[i, j], fmt),\n",
    "                 horizontalalignment=\"center\",\n",
    "                 color=\"white\" if cm[i, j] > thresh else \"black\")\n",
    "\n",
    "    plt.ylabel('True label')\n",
    "    plt.xlabel('Predicted label')\n",
    "    plt.grid(False)\n",
    "    plt.tight_layout()"
   ]
  },
  {
   "cell_type": "code",
   "execution_count": 24,
   "metadata": {},
   "outputs": [
    {
     "data": {
      "text/plain": [
       "[0.5662251655629139,\n",
       " 0.5496932515337424,\n",
       " 0.3494475138121547,\n",
       " 0.5883100381194409,\n",
       " 0.4669051878354204]"
      ]
     },
     "execution_count": 24,
     "metadata": {},
     "output_type": "execute_result"
    }
   ],
   "source": [
    "scores"
   ]
  },
  {
   "cell_type": "code",
   "execution_count": 25,
   "metadata": {},
   "outputs": [
    {
     "data": {
      "text/plain": [
       "[0.5662251655629139,\n",
       " 0.5496932515337424,\n",
       " 0.3494475138121547,\n",
       " 0.5883100381194409,\n",
       " 0.4669051878354204]"
      ]
     },
     "execution_count": 25,
     "metadata": {},
     "output_type": "execute_result"
    }
   ],
   "source": [
    "scores"
   ]
  },
  {
   "cell_type": "code",
   "execution_count": 26,
   "metadata": {},
   "outputs": [
    {
     "name": "stdout",
     "output_type": "stream",
     "text": [
      "1\n"
     ]
    }
   ],
   "source": [
    "# confusion_matrix_data['predictions'][1].shape\n",
    "print(1)"
   ]
  },
  {
   "cell_type": "code",
   "execution_count": 27,
   "metadata": {},
   "outputs": [
    {
     "data": {
      "image/png": "[encoded data removed]",
      "text/plain": [
       "<Figure size 720x720 with 2 Axes>"
      ]
     },
     "metadata": {},
     "output_type": "display_data"
    }
   ],
   "source": [
    "plot_confusion_matrix(confusion_matrix_data['actual'][1], confusion_matrix_data[\"predictions\"][1], le.classes_)"
   ]
  },
  {
   "cell_type": "code",
   "execution_count": 28,
   "metadata": {},
   "outputs": [
    {
     "data": {
      "text/plain": [
       "4.2"
      ]
     },
     "execution_count": 28,
     "metadata": {},
     "output_type": "execute_result"
    }
   ],
   "source": [
    "target[\"surface\"].value_counts()[\"hard_tiles\"]*.2"
   ]
  },
  {
   "cell_type": "code",
   "execution_count": 29,
   "metadata": {},
   "outputs": [],
   "source": [
    "l_group = target.groupby('group_id')['series_id'].apply(list)"
   ]
  },
  {
   "cell_type": "code",
   "execution_count": 30,
   "metadata": {},
   "outputs": [],
   "source": [
    "train_3 = {}\n",
    "val_3 = {}"
   ]
  },
  {
   "cell_type": "code",
   "execution_count": 31,
   "metadata": {},
   "outputs": [],
   "source": [
    "for series_id_arr in l_group:\n",
    "    folds = KFold(n_splits=5, shuffle=True, random_state=59)\n",
    "    if len(series_id_arr) <6:\n",
    "        continue\n",
    "    for i, (trn_idx, val_idx) in enumerate(folds.split(series_id_arr,series_id_arr)):\n",
    "        if i not in train_3:\n",
    "            train_3[i] = []\n",
    "        if i not in val_3:\n",
    "            val_3[i] = []\n",
    "        train_3[i].extend(np.array(series_id_arr)[trn_idx].tolist())\n",
    "        val_3[i].extend(np.array(series_id_arr)[val_idx].tolist())\n",
    "#         train_3[i] = np.concatenate([train_3[i],np.array(series_id_arr)[trn_idx]])\n",
    "#         val_3[i].append(np.array(series_id_arr)[val_idx])"
   ]
  },
  {
   "cell_type": "code",
   "execution_count": 32,
   "metadata": {
    "_kg_hide-input": true,
    "_kg_hide-output": true,
    "collapsed": true
   },
   "outputs": [
    {
     "name": "stdout",
     "output_type": "stream",
     "text": [
      "3012\n",
      "790\n",
      "3029\n",
      "773\n"
     ]
    }
   ],
   "source": [
    "# flat_list = [item for sublist in train_3[0] for item in sublist]\n",
    "# len(flat_list)\n",
    "len(train_3)\n",
    "print(len(train_3[0]))\n",
    "print(len(val_3[0]))\n",
    "print(len(train_3[1]))\n",
    "print(len(val_3[1]))"
   ]
  },
  {
   "cell_type": "code",
   "execution_count": 33,
   "metadata": {
    "_kg_hide-input": false
   },
   "outputs": [
    {
     "name": "stdout",
     "output_type": "stream",
     "text": [
      "1\n"
     ]
    }
   ],
   "source": [
    "# train_concat.head(1)\n",
    "print(1)"
   ]
  },
  {
   "cell_type": "code",
   "execution_count": 34,
   "metadata": {},
   "outputs": [],
   "source": [
    "j = 0\n",
    "scores = []\n",
    "while j < 5:\n",
    "    train_data_3 = train_concat[train_concat['series_id'].isin(train_3[j])]\n",
    "    train_data_3_fe = train_data_3.drop(columns=['group_id','surface','series_id'])\n",
    "    train_data_3_label = train_data_3[\"surface\"]\n",
    "    cv_data_3 = train_concat[train_concat['series_id'].isin(val_3[j])]\n",
    "    cv_data_3_fe = cv_data_3.drop(columns=['group_id','surface','series_id'])\n",
    "    cv_data_3_label = cv_data_3[\"surface\"]\n",
    "    random_forest = RandomForestClassifier(n_estimators = 50, random_state = 50)\n",
    "    random_forest.fit(train_data_3_fe, train_data_3_label)\n",
    "    score = random_forest.score(cv_data_3_fe, cv_data_3_label)\n",
    "    scores.append(score)\n",
    "    j = j +1\n"
   ]
  },
  {
   "cell_type": "code",
   "execution_count": 35,
   "metadata": {},
   "outputs": [
    {
     "data": {
      "text/plain": [
       "[0.8936708860759494,\n",
       " 0.8952134540750324,\n",
       " 0.8961384820239681,\n",
       " 0.9183400267737617,\n",
       " 0.9014844804318488]"
      ]
     },
     "execution_count": 35,
     "metadata": {},
     "output_type": "execute_result"
    }
   ],
   "source": [
    "scores"
   ]
  }
 ],
 "metadata": {
  "kernelspec": {
   "display_name": "Python 3",
   "language": "python",
   "name": "python3"
  },
  "language_info": {
   "codemirror_mode": {
    "name": "ipython",
    "version": 3
   },
   "file_extension": ".py",
   "mimetype": "text/x-python",
   "name": "python",
   "nbconvert_exporter": "python",
   "pygments_lexer": "ipython3",
   "version": "3.6.4"
  }
 },
 "nbformat": 4,
 "nbformat_minor": 1
}
