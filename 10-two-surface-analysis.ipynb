{
 "cells": [
  {
   "cell_type": "code",
   "execution_count": 1,
   "metadata": {
    "_cell_guid": "b1076dfc-b9ad-4769-8c92-a6c4dae69d19",
    "_uuid": "8f2839f25d086af736a60e9eeb907d3b93b6e0e5"
   },
   "outputs": [],
   "source": [
    "# This Python 3 environment comes with many helpful analytics libraries installed\n",
    "# It is defined by the kaggle/python docker image: https://github.com/kaggle/docker-python\n",
    "import os\n",
    "import time\n",
    "import numpy as np\n",
    "import pandas as pd\n",
    "import matplotlib.pyplot as plt\n",
    "from sklearn.preprocessing import LabelEncoder\n",
    "from sklearn.model_selection import KFold\n",
    "from sklearn.ensemble import RandomForestClassifier\n",
    "from sklearn.utils import shuffle\n",
    "tr = pd.read_csv('../input/X_train.csv')\n",
    "te = pd.read_csv('../input/X_test.csv')\n",
    "target = pd.read_csv('../input/y_train.csv')\n",
    "ss = pd.read_csv('../input/sample_submission.csv')\n",
    "\n"
   ]
  },
  {
   "cell_type": "code",
   "execution_count": 2,
   "metadata": {},
   "outputs": [],
   "source": [
    "def quaternion_to_euler(x, y, z, w):\n",
    "    import math\n",
    "    t0 = +2.0 * (w * x + y * z)\n",
    "    t1 = +1.0 - 2.0 * (x * x + y * y)\n",
    "    X = math.atan2(t0, t1)\n",
    "\n",
    "    t2 = +2.0 * (w * y - z * x)\n",
    "    t2 = +1.0 if t2 > +1.0 else t2\n",
    "    t2 = -1.0 if t2 < -1.0 else t2\n",
    "    Y = math.asin(t2)\n",
    "\n",
    "    t3 = +2.0 * (w * z + x * y)\n",
    "    t4 = +1.0 - 2.0 * (y * y + z * z)\n",
    "    Z = math.atan2(t3, t4)\n",
    "\n",
    "    return X, Y, Z\n",
    "\n",
    "def fe(actual):\n",
    "    new = pd.DataFrame()\n",
    "    actual['total_angular_velocity'] = (actual['angular_velocity_X'] ** 2 + actual['angular_velocity_Y'] ** 2 + actual['angular_velocity_Z'] ** 2) ** 0.5\n",
    "    actual['total_linear_acceleration'] = (actual['linear_acceleration_X'] ** 2 + actual['linear_acceleration_Y'] ** 2 + actual['linear_acceleration_Z'] ** 2) ** 0.5\n",
    "    \n",
    "    actual['acc_vs_vel'] = actual['total_linear_acceleration'] / actual['total_angular_velocity']\n",
    "    \n",
    "    x, y, z, w = actual['orientation_X'].tolist(), actual['orientation_Y'].tolist(), actual['orientation_Z'].tolist(), actual['orientation_W'].tolist()\n",
    "    nx, ny, nz = [], [], []\n",
    "    for i in range(len(x)):\n",
    "        xx, yy, zz = quaternion_to_euler(x[i], y[i], z[i], w[i])\n",
    "        nx.append(xx)\n",
    "        ny.append(yy)\n",
    "        nz.append(zz)\n",
    "    \n",
    "    actual['euler_x'] = nx\n",
    "    actual['euler_y'] = ny\n",
    "    actual['euler_z'] = nz\n",
    "    \n",
    "    actual['total_angle'] = (actual['euler_x'] ** 2 + actual['euler_y'] ** 2 + actual['euler_z'] ** 2) ** 0.5\n",
    "    actual['angle_vs_acc'] = actual['total_angle'] / actual['total_linear_acceleration']\n",
    "    actual['angle_vs_vel'] = actual['total_angle'] / actual['total_angular_velocity']\n",
    "    \n",
    "    def f1(x):\n",
    "        return np.mean(np.diff(np.abs(np.diff(x))))\n",
    "    \n",
    "    def f2(x):\n",
    "        return np.mean(np.abs(np.diff(x)))\n",
    "    \n",
    "    for col in actual.columns:\n",
    "        if col in ['row_id', 'series_id', 'measurement_number','group_id']:\n",
    "            continue\n",
    "        new[col + '_mean'] = actual.groupby(['series_id'])[col].mean()\n",
    "        new[col + '_min'] = actual.groupby(['series_id'])[col].min()\n",
    "        new[col + '_max'] = actual.groupby(['series_id'])[col].max()\n",
    "        new[col + '_std'] = actual.groupby(['series_id'])[col].std()\n",
    "        new[col + '_max_to_min'] = new[col + '_max'] / new[col + '_min']\n",
    "        \n",
    "        # Change. 1st order.\n",
    "        new[col + '_mean_abs_change'] = actual.groupby('series_id')[col].apply(f2)\n",
    "        \n",
    "        # Change of Change. 2nd order.\n",
    "        new[col + '_mean_change_of_abs_change'] = actual.groupby('series_id')[col].apply(f1)\n",
    "        \n",
    "        new[col + '_abs_max'] = actual.groupby('series_id')[col].apply(lambda x: np.max(np.abs(x)))\n",
    "        new[col + '_abs_min'] = actual.groupby('series_id')[col].apply(lambda x: np.min(np.abs(x)))\n",
    "\n",
    "    return new"
   ]
  },
  {
   "cell_type": "code",
   "execution_count": 3,
   "metadata": {},
   "outputs": [],
   "source": [
    "from IPython.display import HTML\n",
    "import base64\n",
    "def create_download_link(df, title = \"Download \", filename = \"data.csv\"):  \n",
    "    title = title + filename\n",
    "    csv = df.to_csv(index=False)\n",
    "    b64 = base64.b64encode(csv.encode())\n",
    "    payload = b64.decode()\n",
    "    html = '<a download=\"{filename}\" href=\"data:text/csv;base64,{payload}\" target=\"_blank\">{title}</a>'\n",
    "    html = html.format(payload=payload,title=title,filename=filename)\n",
    "    return HTML(html)\n"
   ]
  },
  {
   "cell_type": "code",
   "execution_count": 4,
   "metadata": {},
   "outputs": [],
   "source": [
    "train_labels= target['surface']"
   ]
  },
  {
   "cell_type": "code",
   "execution_count": 5,
   "metadata": {},
   "outputs": [],
   "source": [
    "# okay so I choose concrete and soft_pvc\n",
    "train_csv = pd.read_csv('../input/X_train.csv')\n",
    "test_csv = pd.read_csv('../input/X_test.csv')"
   ]
  },
  {
   "cell_type": "code",
   "execution_count": 6,
   "metadata": {},
   "outputs": [],
   "source": [
    "train_concat = train_csv.merge(target,on='series_id')"
   ]
  },
  {
   "cell_type": "code",
   "execution_count": 7,
   "metadata": {},
   "outputs": [
    {
     "data": {
      "text/plain": [
       "concrete                  779\n",
       "soft_pvc                  732\n",
       "wood                      607\n",
       "tiled                     514\n",
       "fine_concrete             363\n",
       "hard_tiles_large_space    308\n",
       "soft_tiles                297\n",
       "carpet                    189\n",
       "hard_tiles                 21\n",
       "Name: surface, dtype: int64"
      ]
     },
     "execution_count": 7,
     "metadata": {},
     "output_type": "execute_result"
    }
   ],
   "source": [
    "target['surface'].value_counts()"
   ]
  },
  {
   "cell_type": "code",
   "execution_count": 8,
   "metadata": {},
   "outputs": [],
   "source": [
    "# soft_pvc_conrete = pd.merge([])\n",
    "tr_ct = train_concat.copy()\n",
    "tr_a = tr_ct.loc[tr_ct['surface'].isin([\"hard_tiles\", \"concrete\"])]\n",
    "# \"soft_pvc\", \"concrete\"\n",
    "tr_a_f = fe(tr_a.drop(columns=['surface','group_id']))\n",
    "tr_a_f_concat = tr_a_f.reset_index().merge(target, on='series_id')\n",
    "tr_a_target = tr_a_f_concat['surface']"
   ]
  },
  {
   "cell_type": "code",
   "execution_count": 9,
   "metadata": {},
   "outputs": [],
   "source": [
    "from sklearn.preprocessing import LabelEncoder\n",
    "le = LabelEncoder()\n",
    "tr_a_label  = le.fit_transform(tr_a_target)\n",
    "# le.inverse_transform(t)"
   ]
  },
  {
   "cell_type": "code",
   "execution_count": 10,
   "metadata": {},
   "outputs": [
    {
     "name": "stdout",
     "output_type": "stream",
     "text": [
      "concrete      623\n",
      "hard_tiles     16\n",
      "Name: surface, dtype: int64\n",
      "concrete      156\n",
      "hard_tiles      5\n",
      "Name: surface, dtype: int64\n",
      "concrete      623\n",
      "hard_tiles     17\n",
      "Name: surface, dtype: int64\n",
      "concrete      156\n",
      "hard_tiles      4\n",
      "Name: surface, dtype: int64\n",
      "concrete      623\n",
      "hard_tiles     17\n",
      "Name: surface, dtype: int64\n",
      "concrete      156\n",
      "hard_tiles      4\n",
      "Name: surface, dtype: int64\n",
      "concrete      623\n",
      "hard_tiles     17\n",
      "Name: surface, dtype: int64\n",
      "concrete      156\n",
      "hard_tiles      4\n",
      "Name: surface, dtype: int64\n",
      "concrete      624\n",
      "hard_tiles     17\n",
      "Name: surface, dtype: int64\n",
      "concrete      155\n",
      "hard_tiles      4\n",
      "Name: surface, dtype: int64\n"
     ]
    },
    {
     "data": {
      "text/plain": [
       "[1.0, 0.99375, 1.0, 0.9875, 0.9937106918238994]"
      ]
     },
     "execution_count": 10,
     "metadata": {},
     "output_type": "execute_result"
    }
   ],
   "source": [
    "from sklearn.model_selection import KFold, StratifiedKFold\n",
    "random_forest = RandomForestClassifier(n_estimators = 100, random_state = 50)\n",
    "folds = StratifiedKFold(n_splits=5, shuffle=True, random_state=59)\n",
    "predicted = np.zeros((152,2))\n",
    "score = []\n",
    "for times, (trn_idx, val_idx) in enumerate(folds.split(tr_a_f,tr_a_label)):\n",
    "    random_forest.fit(tr_a_f.iloc[trn_idx],tr_a_label[trn_idx])\n",
    "    score.append(random_forest.score(tr_a_f.iloc[val_idx],tr_a_label[val_idx]))\n",
    "    p = random_forest.predict(tr_a_f.iloc[val_idx])\n",
    "    print(tr_a_target[trn_idx].value_counts())\n",
    "    print(tr_a_target[val_idx].value_counts())\n",
    "score\n"
   ]
  },
  {
   "cell_type": "code",
   "execution_count": 11,
   "metadata": {},
   "outputs": [],
   "source": []
  },
  {
   "cell_type": "code",
   "execution_count": 11,
   "metadata": {},
   "outputs": [
    {
     "data": {
      "text/plain": [
       "0.9734375"
      ]
     },
     "execution_count": 11,
     "metadata": {},
     "output_type": "execute_result"
    }
   ],
   "source": [
    "623/640"
   ]
  },
  {
   "cell_type": "code",
   "execution_count": 12,
   "metadata": {},
   "outputs": [
    {
     "data": {
      "text/plain": [
       "array([1.    , 1.    , 1.    , 1.    , 1.    , 1.    , 0.9875, 0.975 ,\n",
       "       1.    , 1.    ])"
      ]
     },
     "execution_count": 12,
     "metadata": {},
     "output_type": "execute_result"
    }
   ],
   "source": [
    "from sklearn.model_selection import cross_val_score\n",
    "c = cross_val_score(random_forest,tr_a_f, tr_a_label, cv= 10 )\n",
    "c"
   ]
  },
  {
   "cell_type": "code",
   "execution_count": 13,
   "metadata": {},
   "outputs": [],
   "source": [
    "import itertools\n",
    "list_combinations = list(itertools.combinations(target[\"surface\"].unique(), r=2))\n"
   ]
  },
  {
   "cell_type": "code",
   "execution_count": 14,
   "metadata": {},
   "outputs": [],
   "source": []
  },
  {
   "cell_type": "code",
   "execution_count": 14,
   "metadata": {},
   "outputs": [],
   "source": [
    "two_surface_scores = {}"
   ]
  },
  {
   "cell_type": "code",
   "execution_count": 15,
   "metadata": {},
   "outputs": [],
   "source": [
    "from tqdm import tqdm"
   ]
  },
  {
   "cell_type": "code",
   "execution_count": 16,
   "metadata": {},
   "outputs": [
    {
     "name": "stderr",
     "output_type": "stream",
     "text": [
      "100%|██████████| 36/36 [07:31<00:00,  9.49s/it]\n"
     ]
    }
   ],
   "source": [
    "\n",
    "for two_surface in tqdm(list_combinations):\n",
    "    # soft_pvc_conrete = pd.merge([])\n",
    "    tr_ct = train_concat.copy()\n",
    "    tr_a = tr_ct.loc[tr_ct['surface'].isin(two_surface)]\n",
    "    # \"soft_pvc\", \"concrete\"\n",
    "    tr_a_f = fe(tr_a.drop(columns=['surface','group_id']))\n",
    "    tr_a_f_concat = tr_a_f.reset_index().merge(target, on='series_id')\n",
    "    tr_a_target = tr_a_f_concat['surface']\n",
    "    from sklearn.preprocessing import LabelEncoder\n",
    "    le = LabelEncoder()\n",
    "    tr_a_label  = le.fit_transform(tr_a_target)\n",
    "    # le.inverse_transform(t)\n",
    "    from sklearn.model_selection import KFold, StratifiedKFold\n",
    "    random_forest = RandomForestClassifier(n_estimators = 100, random_state = 50)\n",
    "    folds = StratifiedKFold(n_splits=5, shuffle=True, random_state=59)\n",
    "    predicted = np.zeros((152,2))\n",
    "    score = []\n",
    "    for times, (trn_idx, val_idx) in enumerate(folds.split(tr_a_f,tr_a_label)):\n",
    "        random_forest.fit(tr_a_f.iloc[trn_idx],tr_a_label[trn_idx])\n",
    "        score.append(random_forest.score(tr_a_f.iloc[val_idx],tr_a_label[val_idx]))\n",
    "        p = random_forest.predict(tr_a_f.iloc[val_idx])\n",
    "#         print(tr_a_target[trn_idx].value_counts())\n",
    "#         print(tr_a_target[val_idx].value_counts())\n",
    "    surface_id = two_surface[0]+\"-\"+two_surface[1]\n",
    "#     print(surface_id)\n",
    "    two_surface_scores[surface_id] = np.mean(score)"
   ]
  },
  {
   "cell_type": "code",
   "execution_count": 17,
   "metadata": {},
   "outputs": [
    {
     "data": {
      "text/plain": [
       "{'fine_concrete-concrete': 0.9632151502971114,\n",
       " 'fine_concrete-soft_tiles': 0.9667106698042817,\n",
       " 'fine_concrete-tiled': 0.9726490520973279,\n",
       " 'fine_concrete-soft_pvc': 0.9772060430876568,\n",
       " 'fine_concrete-hard_tiles_large_space': 0.9642216652742969,\n",
       " 'fine_concrete-carpet': 0.9855197649693063,\n",
       " 'fine_concrete-hard_tiles': 0.9947368421052631,\n",
       " 'fine_concrete-wood': 0.9360810498014708,\n",
       " 'concrete-soft_tiles': 0.9758568588149114,\n",
       " 'concrete-tiled': 0.9651908718056579,\n",
       " 'concrete-soft_pvc': 0.9583326852629819,\n",
       " 'concrete-hard_tiles_large_space': 0.9677669107825959,\n",
       " 'concrete-carpet': 0.9710910652920963,\n",
       " 'concrete-hard_tiles': 0.99499213836478,\n",
       " 'concrete-wood': 0.9567174889816604,\n",
       " 'soft_tiles-tiled': 0.9679615445953136,\n",
       " 'soft_tiles-soft_pvc': 0.9805537881465771,\n",
       " 'soft_tiles-hard_tiles_large_space': 0.9834699453551913,\n",
       " 'soft_tiles-carpet': 0.9876073883161511,\n",
       " 'soft_tiles-hard_tiles': 0.9685485347985349,\n",
       " 'soft_tiles-wood': 0.9724053724053725,\n",
       " 'tiled-soft_pvc': 0.9727098587899988,\n",
       " 'tiled-hard_tiles_large_space': 0.9902659847011186,\n",
       " 'tiled-carpet': 0.9601816419205061,\n",
       " 'tiled-hard_tiles': 0.9925233644859812,\n",
       " 'tiled-wood': 0.963436258808456,\n",
       " 'soft_pvc-hard_tiles_large_space': 0.9797980020234025,\n",
       " 'soft_pvc-carpet': 0.9847824802707198,\n",
       " 'soft_pvc-hard_tiles': 0.9973333333333333,\n",
       " 'soft_pvc-wood': 0.96489982317642,\n",
       " 'hard_tiles_large_space-carpet': 0.995979797979798,\n",
       " 'hard_tiles_large_space-hard_tiles': 0.9938461538461538,\n",
       " 'hard_tiles_large_space-wood': 0.9781474939885489,\n",
       " 'carpet-hard_tiles': 1.0,\n",
       " 'carpet-wood': 0.9811318764429584,\n",
       " 'hard_tiles-wood': 0.9872884889388827}"
      ]
     },
     "execution_count": 17,
     "metadata": {},
     "output_type": "execute_result"
    }
   ],
   "source": [
    "two_surface_scores"
   ]
  },
  {
   "cell_type": "code",
   "execution_count": 18,
   "metadata": {},
   "outputs": [],
   "source": [
    "s = pd.Series(list(two_surface_scores.values()),index = list(two_surface_scores.keys()))\n"
   ]
  },
  {
   "cell_type": "code",
   "execution_count": 19,
   "metadata": {},
   "outputs": [
    {
     "data": {
      "text/plain": [
       "fine_concrete-wood                      0.936081\n",
       "concrete-wood                           0.956717\n",
       "concrete-soft_pvc                       0.958333\n",
       "tiled-carpet                            0.960182\n",
       "fine_concrete-concrete                  0.963215\n",
       "tiled-wood                              0.963436\n",
       "fine_concrete-hard_tiles_large_space    0.964222\n",
       "soft_pvc-wood                           0.964900\n",
       "concrete-tiled                          0.965191\n",
       "fine_concrete-soft_tiles                0.966711\n",
       "concrete-hard_tiles_large_space         0.967767\n",
       "soft_tiles-tiled                        0.967962\n",
       "soft_tiles-hard_tiles                   0.968549\n",
       "concrete-carpet                         0.971091\n",
       "soft_tiles-wood                         0.972405\n",
       "fine_concrete-tiled                     0.972649\n",
       "tiled-soft_pvc                          0.972710\n",
       "concrete-soft_tiles                     0.975857\n",
       "fine_concrete-soft_pvc                  0.977206\n",
       "hard_tiles_large_space-wood             0.978147\n",
       "soft_pvc-hard_tiles_large_space         0.979798\n",
       "soft_tiles-soft_pvc                     0.980554\n",
       "carpet-wood                             0.981132\n",
       "soft_tiles-hard_tiles_large_space       0.983470\n",
       "soft_pvc-carpet                         0.984782\n",
       "fine_concrete-carpet                    0.985520\n",
       "hard_tiles-wood                         0.987288\n",
       "soft_tiles-carpet                       0.987607\n",
       "tiled-hard_tiles_large_space            0.990266\n",
       "tiled-hard_tiles                        0.992523\n",
       "hard_tiles_large_space-hard_tiles       0.993846\n",
       "fine_concrete-hard_tiles                0.994737\n",
       "concrete-hard_tiles                     0.994992\n",
       "hard_tiles_large_space-carpet           0.995980\n",
       "soft_pvc-hard_tiles                     0.997333\n",
       "carpet-hard_tiles                       1.000000\n",
       "dtype: float64"
      ]
     },
     "execution_count": 19,
     "metadata": {},
     "output_type": "execute_result"
    }
   ],
   "source": [
    "s.sort_values()"
   ]
  },
  {
   "cell_type": "code",
   "execution_count": 20,
   "metadata": {},
   "outputs": [
    {
     "data": {
      "text/plain": [
       "concrete                  779\n",
       "soft_pvc                  732\n",
       "wood                      607\n",
       "tiled                     514\n",
       "fine_concrete             363\n",
       "hard_tiles_large_space    308\n",
       "soft_tiles                297\n",
       "carpet                    189\n",
       "hard_tiles                 21\n",
       "Name: surface, dtype: int64"
      ]
     },
     "execution_count": 20,
     "metadata": {},
     "output_type": "execute_result"
    }
   ],
   "source": [
    "target['surface'].value_counts()"
   ]
  },
  {
   "cell_type": "code",
   "execution_count": 21,
   "metadata": {},
   "outputs": [],
   "source": [
    "def two_surface_cal(two_surface):\n",
    "    tr_ct = train_concat.copy()\n",
    "    tr_a = tr_ct.loc[tr_ct['surface'].isin(two_surface)]\n",
    "    # \"soft_pvc\", \"concrete\"\n",
    "    tr_a_f = fe(tr_a.drop(columns=['surface','group_id']))\n",
    "    tr_a_f_concat = tr_a_f.reset_index().merge(target, on='series_id')\n",
    "    print(tr_a_f_concat['surface'].value_counts())\n",
    "    tr_a_target = tr_a_f_concat['surface']\n",
    "    from sklearn.preprocessing import LabelEncoder\n",
    "    le = LabelEncoder()\n",
    "    tr_a_label  = le.fit_transform(tr_a_target)\n",
    "    # le.inverse_transform(t)\n",
    "    from sklearn.model_selection import KFold, StratifiedKFold\n",
    "    random_forest = RandomForestClassifier(n_estimators = 100, random_state = 50)\n",
    "    folds = StratifiedKFold(n_splits=5, shuffle=True, random_state=59)\n",
    "    predicted = np.zeros((152,2))\n",
    "    score = []\n",
    "    for times, (trn_idx, val_idx) in enumerate(folds.split(tr_a_f,tr_a_label)):\n",
    "        random_forest.fit(tr_a_f.iloc[trn_idx],tr_a_label[trn_idx])\n",
    "        score.append(random_forest.score(tr_a_f.iloc[val_idx],tr_a_label[val_idx]))\n",
    "        p = random_forest.predict(tr_a_f.iloc[val_idx])\n",
    "    return score"
   ]
  },
  {
   "cell_type": "code",
   "execution_count": 22,
   "metadata": {},
   "outputs": [
    {
     "name": "stdout",
     "output_type": "stream",
     "text": [
      "wood             607\n",
      "fine_concrete    363\n",
      "Name: surface, dtype: int64\n"
     ]
    },
    {
     "data": {
      "text/plain": [
       "[0.9538461538461539,\n",
       " 0.9128205128205128,\n",
       " 0.9484536082474226,\n",
       " 0.9119170984455959,\n",
       " 0.9533678756476683]"
      ]
     },
     "execution_count": 22,
     "metadata": {},
     "output_type": "execute_result"
    }
   ],
   "source": [
    "two_surface_cal(['fine_concrete','wood'])"
   ]
  }
 ],
 "metadata": {
  "kernelspec": {
   "display_name": "Python 3",
   "language": "python",
   "name": "python3"
  },
  "language_info": {
   "codemirror_mode": {
    "name": "ipython",
    "version": 3
   },
   "file_extension": ".py",
   "mimetype": "text/x-python",
   "name": "python",
   "nbconvert_exporter": "python",
   "pygments_lexer": "ipython3",
   "version": "3.6.4"
  }
 },
 "nbformat": 4,
 "nbformat_minor": 1
}
